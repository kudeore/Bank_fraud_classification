{
  "nbformat": 4,
  "nbformat_minor": 0,
  "metadata": {
    "accelerator": "TPU",
    "colab": {
      "name": "Preprocess_test_data.ipynb",
      "provenance": []
    },
    "kernelspec": {
      "display_name": "Python 3",
      "language": "python",
      "name": "python3"
    },
    "language_info": {
      "codemirror_mode": {
        "name": "ipython",
        "version": 3
      },
      "file_extension": ".py",
      "mimetype": "text/x-python",
      "name": "python",
      "nbconvert_exporter": "python",
      "pygments_lexer": "ipython3",
      "version": "3.8.5"
    }
  },
  "cells": [
    {
      "cell_type": "code",
      "metadata": {
        "id": "6ENfvTaudNFc"
      },
      "source": [
        "import pandas as pd\n",
        "import numpy as np\n",
        "import seaborn as sn\n",
        "import numpy as np\n",
        "import matplotlib.pyplot as plt\n",
        "from sklearn.preprocessing import LabelEncoder"
      ],
      "execution_count": null,
      "outputs": []
    },
    {
      "cell_type": "code",
      "metadata": {
        "colab": {
          "base_uri": "https://localhost:8080/"
        },
        "id": "_JTkHKzWdgLG",
        "outputId": "fa4e0508-b42e-40fd-8341-9d4a4167aa87"
      },
      "source": [
        "from google.colab import drive\n",
        "drive.mount('/content/drive')"
      ],
      "execution_count": null,
      "outputs": [
        {
          "output_type": "stream",
          "text": [
            "Mounted at /content/drive\n"
          ],
          "name": "stdout"
        }
      ]
    },
    {
      "cell_type": "code",
      "metadata": {
        "colab": {
          "base_uri": "https://localhost:8080/"
        },
        "id": "iVwHMTZWdl76",
        "outputId": "fa123bf5-4c93-4be0-c1af-70c4ff91fa0e"
      },
      "source": [
        "import os \n",
        "os.chdir('/content/drive/My Drive/Assignment')\n",
        "!ls"
      ],
      "execution_count": null,
      "outputs": [
        {
          "output_type": "stream",
          "text": [
            "processed_train.csv  RFC_Model.pckl    Untitled.ipynb\n",
            "RFC_Model_all.pckl   test_indessa.csv  XGB.pckl\n"
          ],
          "name": "stdout"
        }
      ]
    },
    {
      "cell_type": "code",
      "metadata": {
        "id": "qsGXpA-IdNFj"
      },
      "source": [
        "#import columns to be dropped from data discovery \n",
        "\n",
        "columns_to_drop =['member_id', 'desc', 'mths_since_last_record', 'mths_since_last_major_derog', 'verification_status_joint', 'mths_since_last_delinq','batch_enrolled' ]"
      ],
      "execution_count": null,
      "outputs": []
    },
    {
      "cell_type": "code",
      "metadata": {
        "id": "CA122c_XdNFj"
      },
      "source": [
        "test_data= pd.read_csv('test_indessa.csv')"
      ],
      "execution_count": null,
      "outputs": []
    },
    {
      "cell_type": "code",
      "metadata": {
        "colab": {
          "base_uri": "https://localhost:8080/",
          "height": 333
        },
        "id": "MhwxKDkPniOL",
        "outputId": "294ac271-1c97-41de-a08b-331c4998fddf"
      },
      "source": [
        "test_data.head()"
      ],
      "execution_count": null,
      "outputs": [
        {
          "output_type": "execute_result",
          "data": {
            "text/html": [
              "<div>\n",
              "<style scoped>\n",
              "    .dataframe tbody tr th:only-of-type {\n",
              "        vertical-align: middle;\n",
              "    }\n",
              "\n",
              "    .dataframe tbody tr th {\n",
              "        vertical-align: top;\n",
              "    }\n",
              "\n",
              "    .dataframe thead th {\n",
              "        text-align: right;\n",
              "    }\n",
              "</style>\n",
              "<table border=\"1\" class=\"dataframe\">\n",
              "  <thead>\n",
              "    <tr style=\"text-align: right;\">\n",
              "      <th></th>\n",
              "      <th>loan_amnt</th>\n",
              "      <th>funded_amnt</th>\n",
              "      <th>funded_amnt_inv</th>\n",
              "      <th>term</th>\n",
              "      <th>int_rate</th>\n",
              "      <th>grade</th>\n",
              "      <th>sub_grade</th>\n",
              "      <th>emp_title</th>\n",
              "      <th>emp_length</th>\n",
              "      <th>home_ownership</th>\n",
              "      <th>annual_inc</th>\n",
              "      <th>verification_status</th>\n",
              "      <th>pymnt_plan</th>\n",
              "      <th>purpose</th>\n",
              "      <th>zip_code</th>\n",
              "      <th>addr_state</th>\n",
              "      <th>dti</th>\n",
              "      <th>delinq_2yrs</th>\n",
              "      <th>inq_last_6mths</th>\n",
              "      <th>open_acc</th>\n",
              "      <th>pub_rec</th>\n",
              "      <th>revol_bal</th>\n",
              "      <th>revol_util</th>\n",
              "      <th>total_acc</th>\n",
              "      <th>initial_list_status</th>\n",
              "      <th>total_rec_int</th>\n",
              "      <th>total_rec_late_fee</th>\n",
              "      <th>recoveries</th>\n",
              "      <th>collection_recovery_fee</th>\n",
              "      <th>collections_12_mths_ex_med</th>\n",
              "      <th>application_type</th>\n",
              "      <th>last_week_pay</th>\n",
              "      <th>acc_now_delinq</th>\n",
              "      <th>tot_coll_amt</th>\n",
              "      <th>tot_cur_bal</th>\n",
              "      <th>total_rev_hi_lim</th>\n",
              "      <th>term_int</th>\n",
              "      <th>sub_grade_int</th>\n",
              "      <th>last_week_pay_int</th>\n",
              "    </tr>\n",
              "  </thead>\n",
              "  <tbody>\n",
              "    <tr>\n",
              "      <th>0</th>\n",
              "      <td>14000</td>\n",
              "      <td>14000</td>\n",
              "      <td>14000.0</td>\n",
              "      <td>60 months</td>\n",
              "      <td>16.24</td>\n",
              "      <td>C</td>\n",
              "      <td>C5</td>\n",
              "      <td>Data Analyst</td>\n",
              "      <td>4</td>\n",
              "      <td>RENT</td>\n",
              "      <td>73500.0</td>\n",
              "      <td>Source Verified</td>\n",
              "      <td>n</td>\n",
              "      <td>credit_card</td>\n",
              "      <td>450xx</td>\n",
              "      <td>OH</td>\n",
              "      <td>28.65</td>\n",
              "      <td>1.0</td>\n",
              "      <td>1.0</td>\n",
              "      <td>16.0</td>\n",
              "      <td>0.0</td>\n",
              "      <td>29828</td>\n",
              "      <td>65.3</td>\n",
              "      <td>53.0</td>\n",
              "      <td>f</td>\n",
              "      <td>3915.61</td>\n",
              "      <td>0.0</td>\n",
              "      <td>0.0</td>\n",
              "      <td>0.0</td>\n",
              "      <td>0.0</td>\n",
              "      <td>INDIVIDUAL</td>\n",
              "      <td>104th week</td>\n",
              "      <td>0.0</td>\n",
              "      <td>0.0</td>\n",
              "      <td>85230.0</td>\n",
              "      <td>45700.0</td>\n",
              "      <td>60</td>\n",
              "      <td>5</td>\n",
              "      <td>104</td>\n",
              "    </tr>\n",
              "    <tr>\n",
              "      <th>1</th>\n",
              "      <td>16000</td>\n",
              "      <td>16000</td>\n",
              "      <td>16000.0</td>\n",
              "      <td>60 months</td>\n",
              "      <td>9.49</td>\n",
              "      <td>B</td>\n",
              "      <td>B2</td>\n",
              "      <td>Senior Database Administrator</td>\n",
              "      <td>5</td>\n",
              "      <td>MORTGAGE</td>\n",
              "      <td>105000.0</td>\n",
              "      <td>Source Verified</td>\n",
              "      <td>n</td>\n",
              "      <td>major_purchase</td>\n",
              "      <td>275xx</td>\n",
              "      <td>NC</td>\n",
              "      <td>31.19</td>\n",
              "      <td>0.0</td>\n",
              "      <td>0.0</td>\n",
              "      <td>8.0</td>\n",
              "      <td>0.0</td>\n",
              "      <td>4161</td>\n",
              "      <td>19.4</td>\n",
              "      <td>63.0</td>\n",
              "      <td>w</td>\n",
              "      <td>1495.06</td>\n",
              "      <td>0.0</td>\n",
              "      <td>0.0</td>\n",
              "      <td>0.0</td>\n",
              "      <td>0.0</td>\n",
              "      <td>INDIVIDUAL</td>\n",
              "      <td>57th week</td>\n",
              "      <td>0.0</td>\n",
              "      <td>0.0</td>\n",
              "      <td>444991.0</td>\n",
              "      <td>21400.0</td>\n",
              "      <td>60</td>\n",
              "      <td>2</td>\n",
              "      <td>57</td>\n",
              "    </tr>\n",
              "    <tr>\n",
              "      <th>2</th>\n",
              "      <td>11050</td>\n",
              "      <td>11050</td>\n",
              "      <td>11050.0</td>\n",
              "      <td>60 months</td>\n",
              "      <td>15.61</td>\n",
              "      <td>D</td>\n",
              "      <td>D1</td>\n",
              "      <td>Customer service representative</td>\n",
              "      <td>10</td>\n",
              "      <td>RENT</td>\n",
              "      <td>62300.0</td>\n",
              "      <td>Not Verified</td>\n",
              "      <td>n</td>\n",
              "      <td>debt_consolidation</td>\n",
              "      <td>672xx</td>\n",
              "      <td>KS</td>\n",
              "      <td>21.73</td>\n",
              "      <td>1.0</td>\n",
              "      <td>0.0</td>\n",
              "      <td>11.0</td>\n",
              "      <td>1.0</td>\n",
              "      <td>12064</td>\n",
              "      <td>74.0</td>\n",
              "      <td>20.0</td>\n",
              "      <td>w</td>\n",
              "      <td>2096.21</td>\n",
              "      <td>0.0</td>\n",
              "      <td>0.0</td>\n",
              "      <td>0.0</td>\n",
              "      <td>0.0</td>\n",
              "      <td>INDIVIDUAL</td>\n",
              "      <td>70th week</td>\n",
              "      <td>0.0</td>\n",
              "      <td>0.0</td>\n",
              "      <td>105737.0</td>\n",
              "      <td>16300.0</td>\n",
              "      <td>60</td>\n",
              "      <td>1</td>\n",
              "      <td>70</td>\n",
              "    </tr>\n",
              "    <tr>\n",
              "      <th>3</th>\n",
              "      <td>35000</td>\n",
              "      <td>35000</td>\n",
              "      <td>34700.0</td>\n",
              "      <td>60 months</td>\n",
              "      <td>12.69</td>\n",
              "      <td>C</td>\n",
              "      <td>C2</td>\n",
              "      <td>ACCT OFFICER</td>\n",
              "      <td>10</td>\n",
              "      <td>OWN</td>\n",
              "      <td>150000.0</td>\n",
              "      <td>Source Verified</td>\n",
              "      <td>n</td>\n",
              "      <td>debt_consolidation</td>\n",
              "      <td>961xx</td>\n",
              "      <td>CA</td>\n",
              "      <td>17.27</td>\n",
              "      <td>0.0</td>\n",
              "      <td>0.0</td>\n",
              "      <td>21.0</td>\n",
              "      <td>0.0</td>\n",
              "      <td>32549</td>\n",
              "      <td>45.0</td>\n",
              "      <td>26.0</td>\n",
              "      <td>f</td>\n",
              "      <td>1756.31</td>\n",
              "      <td>0.0</td>\n",
              "      <td>0.0</td>\n",
              "      <td>0.0</td>\n",
              "      <td>0.0</td>\n",
              "      <td>INDIVIDUAL</td>\n",
              "      <td>22th week</td>\n",
              "      <td>0.0</td>\n",
              "      <td>0.0</td>\n",
              "      <td>287022.0</td>\n",
              "      <td>72400.0</td>\n",
              "      <td>60</td>\n",
              "      <td>2</td>\n",
              "      <td>22</td>\n",
              "    </tr>\n",
              "    <tr>\n",
              "      <th>4</th>\n",
              "      <td>6500</td>\n",
              "      <td>6500</td>\n",
              "      <td>6500.0</td>\n",
              "      <td>36 months</td>\n",
              "      <td>6.89</td>\n",
              "      <td>A</td>\n",
              "      <td>A3</td>\n",
              "      <td>Paralegal</td>\n",
              "      <td>5</td>\n",
              "      <td>MORTGAGE</td>\n",
              "      <td>52000.0</td>\n",
              "      <td>Not Verified</td>\n",
              "      <td>n</td>\n",
              "      <td>major_purchase</td>\n",
              "      <td>707xx</td>\n",
              "      <td>LA</td>\n",
              "      <td>20.19</td>\n",
              "      <td>0.0</td>\n",
              "      <td>0.0</td>\n",
              "      <td>16.0</td>\n",
              "      <td>0.0</td>\n",
              "      <td>5133</td>\n",
              "      <td>19.2</td>\n",
              "      <td>36.0</td>\n",
              "      <td>w</td>\n",
              "      <td>172.21</td>\n",
              "      <td>0.0</td>\n",
              "      <td>0.0</td>\n",
              "      <td>0.0</td>\n",
              "      <td>0.0</td>\n",
              "      <td>INDIVIDUAL</td>\n",
              "      <td>22th week</td>\n",
              "      <td>0.0</td>\n",
              "      <td>0.0</td>\n",
              "      <td>234278.0</td>\n",
              "      <td>26700.0</td>\n",
              "      <td>36</td>\n",
              "      <td>3</td>\n",
              "      <td>22</td>\n",
              "    </tr>\n",
              "  </tbody>\n",
              "</table>\n",
              "</div>"
            ],
            "text/plain": [
              "   loan_amnt  funded_amnt  ...  sub_grade_int last_week_pay_int\n",
              "0      14000        14000  ...              5               104\n",
              "1      16000        16000  ...              2                57\n",
              "2      11050        11050  ...              1                70\n",
              "3      35000        35000  ...              2                22\n",
              "4       6500         6500  ...              3                22\n",
              "\n",
              "[5 rows x 39 columns]"
            ]
          },
          "metadata": {
            "tags": []
          },
          "execution_count": 43
        }
      ]
    },
    {
      "cell_type": "code",
      "metadata": {
        "id": "othrPJ32dNFk"
      },
      "source": [
        "#drop the columns\n",
        "#dropping title as well, because of less time , not running sentiment analysis\n",
        "test_data.drop(['member_id','desc', 'mths_since_last_record', 'mths_since_last_major_derog', 'verification_status_joint', \n",
        "           'mths_since_last_delinq','batch_enrolled','title' ],inplace=True,axis=1 )"
      ],
      "execution_count": null,
      "outputs": []
    },
    {
      "cell_type": "code",
      "metadata": {
        "colab": {
          "base_uri": "https://localhost:8080/"
        },
        "id": "P8xpbwQZdNFk",
        "outputId": "abb41319-9957-43cc-ab74-ddd4edc34463"
      },
      "source": [
        "#define features \n",
        "features = test_data.columns\n",
        "print(features, features.shape)"
      ],
      "execution_count": null,
      "outputs": [
        {
          "output_type": "stream",
          "text": [
            "Index(['loan_amnt', 'funded_amnt', 'funded_amnt_inv', 'term', 'int_rate',\n",
            "       'grade', 'sub_grade', 'emp_title', 'emp_length', 'home_ownership',\n",
            "       'annual_inc', 'verification_status', 'pymnt_plan', 'purpose',\n",
            "       'zip_code', 'addr_state', 'dti', 'delinq_2yrs', 'inq_last_6mths',\n",
            "       'open_acc', 'pub_rec', 'revol_bal', 'revol_util', 'total_acc',\n",
            "       'initial_list_status', 'total_rec_int', 'total_rec_late_fee',\n",
            "       'recoveries', 'collection_recovery_fee', 'collections_12_mths_ex_med',\n",
            "       'application_type', 'last_week_pay', 'acc_now_delinq', 'tot_coll_amt',\n",
            "       'tot_cur_bal', 'total_rev_hi_lim'],\n",
            "      dtype='object') (36,)\n"
          ],
          "name": "stdout"
        }
      ]
    },
    {
      "cell_type": "code",
      "metadata": {
        "colab": {
          "base_uri": "https://localhost:8080/"
        },
        "id": "x4joMftpdNFm",
        "outputId": "ddc083cc-4533-4ec1-9d0c-54a62925c7ae"
      },
      "source": [
        "#lets preprocess categorical columns first \n",
        "var_cat = []\n",
        "for var in features:\n",
        "    if test_data[var].dtypes == 'O':\n",
        "        var_cat.append(var)\n",
        "print(var_cat)"
      ],
      "execution_count": null,
      "outputs": [
        {
          "output_type": "stream",
          "text": [
            "['term', 'grade', 'sub_grade', 'emp_title', 'emp_length', 'home_ownership', 'verification_status', 'pymnt_plan', 'purpose', 'zip_code', 'addr_state', 'initial_list_status', 'application_type', 'last_week_pay']\n"
          ],
          "name": "stdout"
        }
      ]
    },
    {
      "cell_type": "code",
      "metadata": {
        "colab": {
          "base_uri": "https://localhost:8080/"
        },
        "id": "NsSLDtujdNFm",
        "outputId": "ec9cfbd1-8272-4747-f1cf-673410ed6b27"
      },
      "source": [
        "(test_data[var_cat].isnull().mean()*100)"
      ],
      "execution_count": null,
      "outputs": [
        {
          "output_type": "execute_result",
          "data": {
            "text/plain": [
              "term                   0.000000\n",
              "grade                  0.000000\n",
              "sub_grade              0.000000\n",
              "emp_title              5.811788\n",
              "emp_length             5.052528\n",
              "home_ownership         0.000000\n",
              "verification_status    0.000000\n",
              "pymnt_plan             0.000000\n",
              "purpose                0.000000\n",
              "zip_code               0.000000\n",
              "addr_state             0.000000\n",
              "initial_list_status    0.000000\n",
              "application_type       0.000000\n",
              "last_week_pay          0.000000\n",
              "dtype: float64"
            ]
          },
          "metadata": {
            "tags": []
          },
          "execution_count": 11
        }
      ]
    },
    {
      "cell_type": "code",
      "metadata": {
        "id": "hu4E85c9dNFn"
      },
      "source": [
        "random_impute= ['emp_length','emp_title']"
      ],
      "execution_count": null,
      "outputs": []
    },
    {
      "cell_type": "code",
      "metadata": {
        "id": "NlSudA4_dNFn"
      },
      "source": [
        "#single go pandas is going heavy on data , so running it in two chunks \n",
        "def random_imputatiochunk1(data, column):\n",
        "    \n",
        "    n=len(data)//2\n",
        "    for x in range(0,n):\n",
        "        if pd.isna(data[column][x]):\n",
        "            #print(data['emp_length'][x])\n",
        "            data[column][x]=np.random.choice(data[column].dropna().values)\n",
        "            \n",
        "def random_imputatiochunk2(data, column):\n",
        "    \n",
        "    n=len(data)//2\n",
        "    for x in range(n,354951):\n",
        "        if pd.isna(data[column][x]):\n",
        "            #print(data['emp_length'][x])\n",
        "            data[column][x]=np.random.choice(data[column].dropna().values)"
      ],
      "execution_count": null,
      "outputs": []
    },
    {
      "cell_type": "code",
      "metadata": {
        "colab": {
          "base_uri": "https://localhost:8080/"
        },
        "id": "jpHVkdfHdNFo",
        "outputId": "e42b962e-f8fc-438f-fb98-85b42a0b2a7c"
      },
      "source": [
        "for i in random_impute:\n",
        "    random_imputatiochunk1(test_data,i)\n",
        "    random_imputatiochunk2(test_data,i)"
      ],
      "execution_count": null,
      "outputs": [
        {
          "output_type": "stream",
          "text": [
            "/usr/local/lib/python3.7/dist-packages/ipykernel_launcher.py:8: SettingWithCopyWarning: \n",
            "A value is trying to be set on a copy of a slice from a DataFrame\n",
            "\n",
            "See the caveats in the documentation: https://pandas.pydata.org/pandas-docs/stable/user_guide/indexing.html#returning-a-view-versus-a-copy\n",
            "  \n",
            "/usr/local/lib/python3.7/dist-packages/ipykernel_launcher.py:16: SettingWithCopyWarning: \n",
            "A value is trying to be set on a copy of a slice from a DataFrame\n",
            "\n",
            "See the caveats in the documentation: https://pandas.pydata.org/pandas-docs/stable/user_guide/indexing.html#returning-a-view-versus-a-copy\n",
            "  app.launch_new_instance()\n"
          ],
          "name": "stderr"
        }
      ]
    },
    {
      "cell_type": "code",
      "metadata": {
        "colab": {
          "base_uri": "https://localhost:8080/"
        },
        "id": "D6-1YCyqfe7i",
        "outputId": "577ca607-e804-4659-d83e-57ffcc9a3957"
      },
      "source": [
        "test_data['emp_title'].isna().sum()"
      ],
      "execution_count": null,
      "outputs": [
        {
          "output_type": "execute_result",
          "data": {
            "text/plain": [
              "0"
            ]
          },
          "metadata": {
            "tags": []
          },
          "execution_count": 27
        }
      ]
    },
    {
      "cell_type": "code",
      "metadata": {
        "id": "0-i0SbzIdNFo"
      },
      "source": [
        "#process Column with str+int\n",
        "def to_int(data,column):\n",
        "    data[column+'_int'] = data[column].str.extract('(\\d+)').astype(int) "
      ],
      "execution_count": null,
      "outputs": []
    },
    {
      "cell_type": "code",
      "metadata": {
        "id": "mloQ9V-VdNFo"
      },
      "source": [
        "to_int_columns= ['term','sub_grade','last_week_pay']"
      ],
      "execution_count": null,
      "outputs": []
    },
    {
      "cell_type": "code",
      "metadata": {
        "id": "2zqBhEIgdNFp"
      },
      "source": [
        "# last_week_pay has value NAth week , which needs to be converted into int+str\n",
        "#this values can be handled by random imputation , for now replaced by 0\n",
        "test_data['last_week_pay'].replace({'NAth week':'0th week'}, inplace=True)"
      ],
      "execution_count": null,
      "outputs": []
    },
    {
      "cell_type": "code",
      "metadata": {
        "colab": {
          "base_uri": "https://localhost:8080/"
        },
        "id": "3yJlCBJbdNFp",
        "outputId": "071d3200-607b-46ee-caa5-ae86cc08acd2"
      },
      "source": [
        "for i in to_int_columns:\n",
        "    print(i)\n",
        "    to_int(test_data,i)"
      ],
      "execution_count": null,
      "outputs": [
        {
          "output_type": "stream",
          "text": [
            "term\n",
            "sub_grade\n",
            "last_week_pay\n"
          ],
          "name": "stdout"
        }
      ]
    },
    {
      "cell_type": "code",
      "metadata": {
        "id": "3CVwZVUydNFp"
      },
      "source": [
        "#lable encode emp length \n",
        "coding_dict= {'< 1 year':0, '1 year':1, '2 years':2, '9 years':9, '10+ years':10, '5 years':5,\n",
        "       '8 years':8, '7 years':7, '4 years':4, '3 years':3, '6 years':6  }\n",
        "test_data['emp_length']= test_data['emp_length'].map(coding_dict)"
      ],
      "execution_count": null,
      "outputs": []
    },
    {
      "cell_type": "code",
      "metadata": {
        "id": "Q8SLOAoddNFq"
      },
      "source": [
        "#columns to be lable encoded \n",
        "tobe_lable_encode= ['grade ', 'home_ownership ', 'verification_status ', 'pymnt_plan ', \n",
        "                    'purpose ',  'addr_state ', 'initial_list_status',  'application_type ' ]"
      ],
      "execution_count": null,
      "outputs": []
    },
    {
      "cell_type": "code",
      "metadata": {
        "id": "oe65-o5wlii8"
      },
      "source": [
        "data=pd.read_csv('processed_train.csv')"
      ],
      "execution_count": null,
      "outputs": []
    },
    {
      "cell_type": "code",
      "metadata": {
        "colab": {
          "background_save": true
        },
        "id": "G7KGKjDInyFf"
      },
      "source": [
        "for feat in ['grade', 'home_ownership']:\n",
        "\n",
        "    lbe = LabelEncoder()\n",
        "    lbe.fit(data[feat].values)\n",
        "    diz_map_train = dict(zip(lbe.classes_, lbe.transform(lbe.classes_)+1))\n",
        "\n",
        "    for i in set(test_data[feat]).difference(data[feat]):\n",
        "        diz_map_train[i] = np.nan\n",
        "\n",
        "    data[feat] = [diz_map_train[i] for i in data[feat].values]\n",
        "    test_data[feat] = [diz_map_train[i] for i in test_data[feat].values]"
      ],
      "execution_count": null,
      "outputs": []
    },
    {
      "cell_type": "code",
      "metadata": {
        "colab": {
          "base_uri": "https://localhost:8080/",
          "height": 420
        },
        "id": "YCwfB5kDdNFq",
        "outputId": "3ff9eddf-baa2-47b9-88b6-1e0ffe15154d"
      },
      "source": [
        "#use sklearn lable encoder \n",
        "#using fit for train data and transform for test data\n",
        "grade= LabelEncoder()\n",
        "data['grade']= grade.fit(data['grade'])\n",
        "test_data['grade']= grade.transform(test_data['grade'])\n",
        "\n",
        "home_ownership= LabelEncoder()\n",
        "data['home_ownership']= home_ownership.fit(data['home_ownership'])\n",
        "test_data['home_ownership']= home_ownership.transform(test_data['home_ownership'])\n",
        "    \n",
        "verification_status= LabelEncoder()\n",
        "data['verification_status']= verification_status.fit(data['verification_status'])\n",
        "test_data['verification_status']= verification_status.transform(test_data['verification_status'])\n",
        "\n",
        "pymnt_plan= LabelEncoder()\n",
        "data['pymnt_plan']= pymnt_plan.fit(data['pymnt_plan'])\n",
        "test_data['pymnt_plan']= pymnt_plan.transform(test_data['pymnt_plan'])\n",
        "\n",
        "purpose= LabelEncoder()\n",
        "data['purpose']= purpose.fit(data['purpose'])\n",
        "test_data['purpose']= purpose.transform(test_data['purpose'])\n",
        "\n",
        "addr_state= LabelEncoder()\n",
        "data['addr_state']= addr_state.fit(data['addr_state'])\n",
        "test_data['addr_state']= addr_state.transform(test_data['addr_state'])\n",
        "\n",
        "initial_list_status= LabelEncoder()\n",
        "data['initial_list_status']= initial_list_status.fit(data['initial_list_status'])\n",
        "test_data['initial_list_status']= initial_list_status.transform(test_data['initial_list_status'])\n",
        "\n",
        "application_type= LabelEncoder()\n",
        "data['application_type']= application_type.fit(data['application_type'])\n",
        "test_data['application_type']= application_type.transform(test_data['application_type'])"
      ],
      "execution_count": null,
      "outputs": [
        {
          "output_type": "error",
          "ename": "ValueError",
          "evalue": "ignored",
          "traceback": [
            "\u001b[0;31m---------------------------------------------------------------------------\u001b[0m",
            "\u001b[0;31mKeyError\u001b[0m                                  Traceback (most recent call last)",
            "\u001b[0;32m/usr/local/lib/python3.7/dist-packages/sklearn/preprocessing/_label.py\u001b[0m in \u001b[0;36m_encode_python\u001b[0;34m(values, uniques, encode)\u001b[0m\n\u001b[1;32m     64\u001b[0m         \u001b[0;32mtry\u001b[0m\u001b[0;34m:\u001b[0m\u001b[0;34m\u001b[0m\u001b[0;34m\u001b[0m\u001b[0m\n\u001b[0;32m---> 65\u001b[0;31m             \u001b[0mencoded\u001b[0m \u001b[0;34m=\u001b[0m \u001b[0mnp\u001b[0m\u001b[0;34m.\u001b[0m\u001b[0marray\u001b[0m\u001b[0;34m(\u001b[0m\u001b[0;34m[\u001b[0m\u001b[0mtable\u001b[0m\u001b[0;34m[\u001b[0m\u001b[0mv\u001b[0m\u001b[0;34m]\u001b[0m \u001b[0;32mfor\u001b[0m \u001b[0mv\u001b[0m \u001b[0;32min\u001b[0m \u001b[0mvalues\u001b[0m\u001b[0;34m]\u001b[0m\u001b[0;34m)\u001b[0m\u001b[0;34m\u001b[0m\u001b[0;34m\u001b[0m\u001b[0m\n\u001b[0m\u001b[1;32m     66\u001b[0m         \u001b[0;32mexcept\u001b[0m \u001b[0mKeyError\u001b[0m \u001b[0;32mas\u001b[0m \u001b[0me\u001b[0m\u001b[0;34m:\u001b[0m\u001b[0;34m\u001b[0m\u001b[0;34m\u001b[0m\u001b[0m\n",
            "\u001b[0;32m/usr/local/lib/python3.7/dist-packages/sklearn/preprocessing/_label.py\u001b[0m in \u001b[0;36m<listcomp>\u001b[0;34m(.0)\u001b[0m\n\u001b[1;32m     64\u001b[0m         \u001b[0;32mtry\u001b[0m\u001b[0;34m:\u001b[0m\u001b[0;34m\u001b[0m\u001b[0;34m\u001b[0m\u001b[0m\n\u001b[0;32m---> 65\u001b[0;31m             \u001b[0mencoded\u001b[0m \u001b[0;34m=\u001b[0m \u001b[0mnp\u001b[0m\u001b[0;34m.\u001b[0m\u001b[0marray\u001b[0m\u001b[0;34m(\u001b[0m\u001b[0;34m[\u001b[0m\u001b[0mtable\u001b[0m\u001b[0;34m[\u001b[0m\u001b[0mv\u001b[0m\u001b[0;34m]\u001b[0m \u001b[0;32mfor\u001b[0m \u001b[0mv\u001b[0m \u001b[0;32min\u001b[0m \u001b[0mvalues\u001b[0m\u001b[0;34m]\u001b[0m\u001b[0;34m)\u001b[0m\u001b[0;34m\u001b[0m\u001b[0;34m\u001b[0m\u001b[0m\n\u001b[0m\u001b[1;32m     66\u001b[0m         \u001b[0;32mexcept\u001b[0m \u001b[0mKeyError\u001b[0m \u001b[0;32mas\u001b[0m \u001b[0me\u001b[0m\u001b[0;34m:\u001b[0m\u001b[0;34m\u001b[0m\u001b[0;34m\u001b[0m\u001b[0m\n",
            "\u001b[0;31mKeyError\u001b[0m: 'C'",
            "\nDuring handling of the above exception, another exception occurred:\n",
            "\u001b[0;31mValueError\u001b[0m                                Traceback (most recent call last)",
            "\u001b[0;32m<ipython-input-42-de7e155431b1>\u001b[0m in \u001b[0;36m<module>\u001b[0;34m()\u001b[0m\n\u001b[1;32m      3\u001b[0m \u001b[0mgrade\u001b[0m\u001b[0;34m=\u001b[0m \u001b[0mLabelEncoder\u001b[0m\u001b[0;34m(\u001b[0m\u001b[0;34m)\u001b[0m\u001b[0;34m\u001b[0m\u001b[0;34m\u001b[0m\u001b[0m\n\u001b[1;32m      4\u001b[0m \u001b[0mdata\u001b[0m\u001b[0;34m[\u001b[0m\u001b[0;34m'grade'\u001b[0m\u001b[0;34m]\u001b[0m\u001b[0;34m=\u001b[0m \u001b[0mgrade\u001b[0m\u001b[0;34m.\u001b[0m\u001b[0mfit\u001b[0m\u001b[0;34m(\u001b[0m\u001b[0mdata\u001b[0m\u001b[0;34m[\u001b[0m\u001b[0;34m'grade'\u001b[0m\u001b[0;34m]\u001b[0m\u001b[0;34m)\u001b[0m\u001b[0;34m\u001b[0m\u001b[0;34m\u001b[0m\u001b[0m\n\u001b[0;32m----> 5\u001b[0;31m \u001b[0mtest_data\u001b[0m\u001b[0;34m[\u001b[0m\u001b[0;34m'grade'\u001b[0m\u001b[0;34m]\u001b[0m\u001b[0;34m=\u001b[0m \u001b[0mgrade\u001b[0m\u001b[0;34m.\u001b[0m\u001b[0mtransform\u001b[0m\u001b[0;34m(\u001b[0m\u001b[0mtest_data\u001b[0m\u001b[0;34m[\u001b[0m\u001b[0;34m'grade'\u001b[0m\u001b[0;34m]\u001b[0m\u001b[0;34m)\u001b[0m\u001b[0;34m\u001b[0m\u001b[0;34m\u001b[0m\u001b[0m\n\u001b[0m\u001b[1;32m      6\u001b[0m \u001b[0;34m\u001b[0m\u001b[0m\n\u001b[1;32m      7\u001b[0m \u001b[0mhome_ownership\u001b[0m\u001b[0;34m=\u001b[0m \u001b[0mLabelEncoder\u001b[0m\u001b[0;34m(\u001b[0m\u001b[0;34m)\u001b[0m\u001b[0;34m\u001b[0m\u001b[0;34m\u001b[0m\u001b[0m\n",
            "\u001b[0;32m/usr/local/lib/python3.7/dist-packages/sklearn/preprocessing/_label.py\u001b[0m in \u001b[0;36mtransform\u001b[0;34m(self, y)\u001b[0m\n\u001b[1;32m    271\u001b[0m             \u001b[0;32mreturn\u001b[0m \u001b[0mnp\u001b[0m\u001b[0;34m.\u001b[0m\u001b[0marray\u001b[0m\u001b[0;34m(\u001b[0m\u001b[0;34m[\u001b[0m\u001b[0;34m]\u001b[0m\u001b[0;34m)\u001b[0m\u001b[0;34m\u001b[0m\u001b[0;34m\u001b[0m\u001b[0m\n\u001b[1;32m    272\u001b[0m \u001b[0;34m\u001b[0m\u001b[0m\n\u001b[0;32m--> 273\u001b[0;31m         \u001b[0m_\u001b[0m\u001b[0;34m,\u001b[0m \u001b[0my\u001b[0m \u001b[0;34m=\u001b[0m \u001b[0m_encode\u001b[0m\u001b[0;34m(\u001b[0m\u001b[0my\u001b[0m\u001b[0;34m,\u001b[0m \u001b[0muniques\u001b[0m\u001b[0;34m=\u001b[0m\u001b[0mself\u001b[0m\u001b[0;34m.\u001b[0m\u001b[0mclasses_\u001b[0m\u001b[0;34m,\u001b[0m \u001b[0mencode\u001b[0m\u001b[0;34m=\u001b[0m\u001b[0;32mTrue\u001b[0m\u001b[0;34m)\u001b[0m\u001b[0;34m\u001b[0m\u001b[0;34m\u001b[0m\u001b[0m\n\u001b[0m\u001b[1;32m    274\u001b[0m         \u001b[0;32mreturn\u001b[0m \u001b[0my\u001b[0m\u001b[0;34m\u001b[0m\u001b[0;34m\u001b[0m\u001b[0m\n\u001b[1;32m    275\u001b[0m \u001b[0;34m\u001b[0m\u001b[0m\n",
            "\u001b[0;32m/usr/local/lib/python3.7/dist-packages/sklearn/preprocessing/_label.py\u001b[0m in \u001b[0;36m_encode\u001b[0;34m(values, uniques, encode, check_unknown)\u001b[0m\n\u001b[1;32m    110\u001b[0m     \u001b[0;32mif\u001b[0m \u001b[0mvalues\u001b[0m\u001b[0;34m.\u001b[0m\u001b[0mdtype\u001b[0m \u001b[0;34m==\u001b[0m \u001b[0mobject\u001b[0m\u001b[0;34m:\u001b[0m\u001b[0;34m\u001b[0m\u001b[0;34m\u001b[0m\u001b[0m\n\u001b[1;32m    111\u001b[0m         \u001b[0;32mtry\u001b[0m\u001b[0;34m:\u001b[0m\u001b[0;34m\u001b[0m\u001b[0;34m\u001b[0m\u001b[0m\n\u001b[0;32m--> 112\u001b[0;31m             \u001b[0mres\u001b[0m \u001b[0;34m=\u001b[0m \u001b[0m_encode_python\u001b[0m\u001b[0;34m(\u001b[0m\u001b[0mvalues\u001b[0m\u001b[0;34m,\u001b[0m \u001b[0muniques\u001b[0m\u001b[0;34m,\u001b[0m \u001b[0mencode\u001b[0m\u001b[0;34m)\u001b[0m\u001b[0;34m\u001b[0m\u001b[0;34m\u001b[0m\u001b[0m\n\u001b[0m\u001b[1;32m    113\u001b[0m         \u001b[0;32mexcept\u001b[0m \u001b[0mTypeError\u001b[0m\u001b[0;34m:\u001b[0m\u001b[0;34m\u001b[0m\u001b[0;34m\u001b[0m\u001b[0m\n\u001b[1;32m    114\u001b[0m             \u001b[0;32mraise\u001b[0m \u001b[0mTypeError\u001b[0m\u001b[0;34m(\u001b[0m\u001b[0;34m\"argument must be a string or number\"\u001b[0m\u001b[0;34m)\u001b[0m\u001b[0;34m\u001b[0m\u001b[0;34m\u001b[0m\u001b[0m\n",
            "\u001b[0;32m/usr/local/lib/python3.7/dist-packages/sklearn/preprocessing/_label.py\u001b[0m in \u001b[0;36m_encode_python\u001b[0;34m(values, uniques, encode)\u001b[0m\n\u001b[1;32m     66\u001b[0m         \u001b[0;32mexcept\u001b[0m \u001b[0mKeyError\u001b[0m \u001b[0;32mas\u001b[0m \u001b[0me\u001b[0m\u001b[0;34m:\u001b[0m\u001b[0;34m\u001b[0m\u001b[0;34m\u001b[0m\u001b[0m\n\u001b[1;32m     67\u001b[0m             raise ValueError(\"y contains previously unseen labels: %s\"\n\u001b[0;32m---> 68\u001b[0;31m                              % str(e))\n\u001b[0m\u001b[1;32m     69\u001b[0m         \u001b[0;32mreturn\u001b[0m \u001b[0muniques\u001b[0m\u001b[0;34m,\u001b[0m \u001b[0mencoded\u001b[0m\u001b[0;34m\u001b[0m\u001b[0;34m\u001b[0m\u001b[0m\n\u001b[1;32m     70\u001b[0m     \u001b[0;32melse\u001b[0m\u001b[0;34m:\u001b[0m\u001b[0;34m\u001b[0m\u001b[0;34m\u001b[0m\u001b[0m\n",
            "\u001b[0;31mValueError\u001b[0m: y contains previously unseen labels: 'C'"
          ]
        }
      ]
    },
    {
      "cell_type": "code",
      "metadata": {
        "id": "qTQ4ylMzdNFq"
      },
      "source": [
        "#mean target encoding \n",
        "\n",
        "pur= data.groupby('purpose')['loan_status'].mean()\n",
        "data['purpose']= data['purpose'].map(pur)"
      ],
      "execution_count": null,
      "outputs": []
    },
    {
      "cell_type": "code",
      "metadata": {
        "id": "LhS2S75OdNFr"
      },
      "source": [
        "data.drop(['sub_grade','term','last_week_pay'], axis=1, inplace=True)"
      ],
      "execution_count": null,
      "outputs": []
    },
    {
      "cell_type": "code",
      "metadata": {
        "id": "i1T__4s3dNFr"
      },
      "source": [
        "#coun frequency encoding for emp_title\n",
        "\n",
        "emp_ttl= data.groupby('emp_title')['loan_status'].count()"
      ],
      "execution_count": null,
      "outputs": []
    },
    {
      "cell_type": "code",
      "metadata": {
        "id": "GZUO0QUTdNFr"
      },
      "source": [
        "data['emp_title']= data['emp_title'].map(emp_ttl)"
      ],
      "execution_count": null,
      "outputs": []
    },
    {
      "cell_type": "code",
      "metadata": {
        "id": "soXdenLCdNFs"
      },
      "source": [
        "##preprocessign Numerical data \n"
      ],
      "execution_count": null,
      "outputs": []
    },
    {
      "cell_type": "code",
      "metadata": {
        "id": "jQ1GRbBjdNFs"
      },
      "source": [
        "## as per correlation matrix , we can delete some columns\n",
        "columns_to_drop = ['loan_amnt', 'funded_amnt','total_rev_hi_lim','open_acc','collection_recovery_fee']"
      ],
      "execution_count": null,
      "outputs": []
    },
    {
      "cell_type": "code",
      "metadata": {
        "id": "Ck9Ncl2idNFs"
      },
      "source": [
        "data.drop(['loan_amnt', 'funded_amnt','total_rev_hi_lim','open_acc','collection_recovery_fee' ],inplace=True,axis=1 )"
      ],
      "execution_count": null,
      "outputs": []
    },
    {
      "cell_type": "code",
      "metadata": {
        "id": "clF3HnNgdNFs",
        "outputId": "c334736a-6ba2-4484-f542-9e73b6f52c86"
      },
      "source": [
        "features_n= data.columns\n",
        "var_num = [] \n",
        "for var in features_n: \n",
        "    if data[var].dtypes != 'O': \n",
        "        var_num.append(var) \n",
        "print(var_num)"
      ],
      "execution_count": null,
      "outputs": [
        {
          "output_type": "stream",
          "text": [
            "['funded_amnt_inv', 'int_rate', 'grade', 'emp_title', 'emp_length', 'home_ownership', 'annual_inc', 'verification_status', 'purpose', 'addr_state', 'dti', 'delinq_2yrs', 'inq_last_6mths', 'pub_rec', 'revol_bal', 'revol_util', 'total_acc', 'initial_list_status', 'total_rec_int', 'total_rec_late_fee', 'recoveries', 'collections_12_mths_ex_med', 'application_type', 'acc_now_delinq', 'tot_coll_amt', 'tot_cur_bal', 'loan_status', 'term_int', 'sub_grade_int', 'last_week_pay_int']\n"
          ],
          "name": "stdout"
        }
      ]
    },
    {
      "cell_type": "code",
      "metadata": {
        "id": "a8y7OOwcdNFt"
      },
      "source": [
        "from sklearn.impute import SimpleImputer"
      ],
      "execution_count": null,
      "outputs": []
    },
    {
      "cell_type": "code",
      "metadata": {
        "id": "dkROiSGrdNFt"
      },
      "source": [
        "imp = SimpleImputer(missing_values=np.nan, strategy='mean')\n",
        "imp.fit(data[var_num])\n",
        "x=imp.transform(data[var_num])\n",
        "data[var_num]= pd.DataFrame(x)"
      ],
      "execution_count": null,
      "outputs": []
    },
    {
      "cell_type": "code",
      "metadata": {
        "id": "VFJm6OgddNFt",
        "outputId": "aad661d7-e26d-4dba-af6f-e23e2fa4ef2e"
      },
      "source": [
        "data.isna().sum()"
      ],
      "execution_count": null,
      "outputs": [
        {
          "output_type": "execute_result",
          "data": {
            "text/plain": [
              "funded_amnt_inv               0\n",
              "int_rate                      0\n",
              "grade                         0\n",
              "emp_title                     0\n",
              "emp_length                    0\n",
              "home_ownership                0\n",
              "annual_inc                    0\n",
              "verification_status           0\n",
              "pymnt_plan                    0\n",
              "purpose                       0\n",
              "zip_code                      0\n",
              "addr_state                    0\n",
              "dti                           0\n",
              "delinq_2yrs                   0\n",
              "inq_last_6mths                0\n",
              "pub_rec                       0\n",
              "revol_bal                     0\n",
              "revol_util                    0\n",
              "total_acc                     0\n",
              "initial_list_status           0\n",
              "total_rec_int                 0\n",
              "total_rec_late_fee            0\n",
              "recoveries                    0\n",
              "collections_12_mths_ex_med    0\n",
              "application_type              0\n",
              "acc_now_delinq                0\n",
              "tot_coll_amt                  0\n",
              "tot_cur_bal                   0\n",
              "loan_status                   0\n",
              "term_int                      0\n",
              "sub_grade_int                 0\n",
              "last_week_pay_int             0\n",
              "dtype: int64"
            ]
          },
          "metadata": {
            "tags": []
          },
          "execution_count": 109
        }
      ]
    },
    {
      "cell_type": "code",
      "metadata": {
        "id": "cHWoKqNrdNFu",
        "outputId": "a28c553d-f835-456d-dec3-d3679014a5ce"
      },
      "source": [
        "data.head()\n",
        "#data['term_int'] = data['term'].str.extract('(\\d+)').astype(int)"
      ],
      "execution_count": null,
      "outputs": [
        {
          "output_type": "execute_result",
          "data": {
            "text/html": [
              "<div>\n",
              "<style scoped>\n",
              "    .dataframe tbody tr th:only-of-type {\n",
              "        vertical-align: middle;\n",
              "    }\n",
              "\n",
              "    .dataframe tbody tr th {\n",
              "        vertical-align: top;\n",
              "    }\n",
              "\n",
              "    .dataframe thead th {\n",
              "        text-align: right;\n",
              "    }\n",
              "</style>\n",
              "<table border=\"1\" class=\"dataframe\">\n",
              "  <thead>\n",
              "    <tr style=\"text-align: right;\">\n",
              "      <th></th>\n",
              "      <th>funded_amnt_inv</th>\n",
              "      <th>int_rate</th>\n",
              "      <th>grade</th>\n",
              "      <th>emp_title</th>\n",
              "      <th>emp_length</th>\n",
              "      <th>home_ownership</th>\n",
              "      <th>annual_inc</th>\n",
              "      <th>verification_status</th>\n",
              "      <th>pymnt_plan</th>\n",
              "      <th>purpose</th>\n",
              "      <th>...</th>\n",
              "      <th>recoveries</th>\n",
              "      <th>collections_12_mths_ex_med</th>\n",
              "      <th>application_type</th>\n",
              "      <th>acc_now_delinq</th>\n",
              "      <th>tot_coll_amt</th>\n",
              "      <th>tot_cur_bal</th>\n",
              "      <th>loan_status</th>\n",
              "      <th>term_int</th>\n",
              "      <th>sub_grade_int</th>\n",
              "      <th>last_week_pay_int</th>\n",
              "    </tr>\n",
              "  </thead>\n",
              "  <tbody>\n",
              "    <tr>\n",
              "      <th>0</th>\n",
              "      <td>14350.0</td>\n",
              "      <td>19.19</td>\n",
              "      <td>4</td>\n",
              "      <td>319.0</td>\n",
              "      <td>9.0</td>\n",
              "      <td>4</td>\n",
              "      <td>28700.0</td>\n",
              "      <td>1</td>\n",
              "      <td>0</td>\n",
              "      <td>1</td>\n",
              "      <td>...</td>\n",
              "      <td>0.0</td>\n",
              "      <td>0.0</td>\n",
              "      <td>0</td>\n",
              "      <td>0.0</td>\n",
              "      <td>0.0</td>\n",
              "      <td>28699.0</td>\n",
              "      <td>0.0</td>\n",
              "      <td>36.0</td>\n",
              "      <td>3.0</td>\n",
              "      <td>26.0</td>\n",
              "    </tr>\n",
              "    <tr>\n",
              "      <th>1</th>\n",
              "      <td>4800.0</td>\n",
              "      <td>10.99</td>\n",
              "      <td>1</td>\n",
              "      <td>76.0</td>\n",
              "      <td>0.0</td>\n",
              "      <td>1</td>\n",
              "      <td>65000.0</td>\n",
              "      <td>1</td>\n",
              "      <td>0</td>\n",
              "      <td>2</td>\n",
              "      <td>...</td>\n",
              "      <td>0.0</td>\n",
              "      <td>0.0</td>\n",
              "      <td>0</td>\n",
              "      <td>0.0</td>\n",
              "      <td>0.0</td>\n",
              "      <td>9974.0</td>\n",
              "      <td>0.0</td>\n",
              "      <td>36.0</td>\n",
              "      <td>4.0</td>\n",
              "      <td>9.0</td>\n",
              "    </tr>\n",
              "    <tr>\n",
              "      <th>2</th>\n",
              "      <td>10000.0</td>\n",
              "      <td>7.26</td>\n",
              "      <td>0</td>\n",
              "      <td>2309.0</td>\n",
              "      <td>2.0</td>\n",
              "      <td>4</td>\n",
              "      <td>45000.0</td>\n",
              "      <td>0</td>\n",
              "      <td>0</td>\n",
              "      <td>1</td>\n",
              "      <td>...</td>\n",
              "      <td>0.0</td>\n",
              "      <td>0.0</td>\n",
              "      <td>0</td>\n",
              "      <td>0.0</td>\n",
              "      <td>65.0</td>\n",
              "      <td>38295.0</td>\n",
              "      <td>0.0</td>\n",
              "      <td>36.0</td>\n",
              "      <td>4.0</td>\n",
              "      <td>9.0</td>\n",
              "    </tr>\n",
              "    <tr>\n",
              "      <th>3</th>\n",
              "      <td>15000.0</td>\n",
              "      <td>19.72</td>\n",
              "      <td>3</td>\n",
              "      <td>1.0</td>\n",
              "      <td>10.0</td>\n",
              "      <td>5</td>\n",
              "      <td>105000.0</td>\n",
              "      <td>0</td>\n",
              "      <td>0</td>\n",
              "      <td>1</td>\n",
              "      <td>...</td>\n",
              "      <td>0.0</td>\n",
              "      <td>0.0</td>\n",
              "      <td>0</td>\n",
              "      <td>0.0</td>\n",
              "      <td>0.0</td>\n",
              "      <td>55564.0</td>\n",
              "      <td>0.0</td>\n",
              "      <td>36.0</td>\n",
              "      <td>5.0</td>\n",
              "      <td>135.0</td>\n",
              "    </tr>\n",
              "    <tr>\n",
              "      <th>4</th>\n",
              "      <td>16000.0</td>\n",
              "      <td>10.64</td>\n",
              "      <td>1</td>\n",
              "      <td>1.0</td>\n",
              "      <td>10.0</td>\n",
              "      <td>5</td>\n",
              "      <td>52000.0</td>\n",
              "      <td>2</td>\n",
              "      <td>0</td>\n",
              "      <td>0</td>\n",
              "      <td>...</td>\n",
              "      <td>0.0</td>\n",
              "      <td>0.0</td>\n",
              "      <td>0</td>\n",
              "      <td>0.0</td>\n",
              "      <td>0.0</td>\n",
              "      <td>47159.0</td>\n",
              "      <td>0.0</td>\n",
              "      <td>36.0</td>\n",
              "      <td>2.0</td>\n",
              "      <td>96.0</td>\n",
              "    </tr>\n",
              "  </tbody>\n",
              "</table>\n",
              "<p>5 rows × 32 columns</p>\n",
              "</div>"
            ],
            "text/plain": [
              "   funded_amnt_inv  int_rate  grade  emp_title  emp_length  home_ownership  \\\n",
              "0          14350.0     19.19      4      319.0         9.0               4   \n",
              "1           4800.0     10.99      1       76.0         0.0               1   \n",
              "2          10000.0      7.26      0     2309.0         2.0               4   \n",
              "3          15000.0     19.72      3        1.0        10.0               5   \n",
              "4          16000.0     10.64      1        1.0        10.0               5   \n",
              "\n",
              "   annual_inc  verification_status  pymnt_plan  purpose  ... recoveries  \\\n",
              "0     28700.0                    1           0        1  ...        0.0   \n",
              "1     65000.0                    1           0        2  ...        0.0   \n",
              "2     45000.0                    0           0        1  ...        0.0   \n",
              "3    105000.0                    0           0        1  ...        0.0   \n",
              "4     52000.0                    2           0        0  ...        0.0   \n",
              "\n",
              "   collections_12_mths_ex_med  application_type  acc_now_delinq  tot_coll_amt  \\\n",
              "0                         0.0                 0             0.0           0.0   \n",
              "1                         0.0                 0             0.0           0.0   \n",
              "2                         0.0                 0             0.0          65.0   \n",
              "3                         0.0                 0             0.0           0.0   \n",
              "4                         0.0                 0             0.0           0.0   \n",
              "\n",
              "   tot_cur_bal  loan_status  term_int  sub_grade_int  last_week_pay_int  \n",
              "0      28699.0          0.0      36.0            3.0               26.0  \n",
              "1       9974.0          0.0      36.0            4.0                9.0  \n",
              "2      38295.0          0.0      36.0            4.0                9.0  \n",
              "3      55564.0          0.0      36.0            5.0              135.0  \n",
              "4      47159.0          0.0      36.0            2.0               96.0  \n",
              "\n",
              "[5 rows x 32 columns]"
            ]
          },
          "metadata": {
            "tags": []
          },
          "execution_count": 116
        }
      ]
    },
    {
      "cell_type": "code",
      "metadata": {
        "id": "QH9jFa20dNFu"
      },
      "source": [
        "data.to_csv('processed_train.csv', encoding='utf-8',index=False)"
      ],
      "execution_count": null,
      "outputs": []
    },
    {
      "cell_type": "code",
      "metadata": {
        "id": "rmV0IaCxdNFu"
      },
      "source": [
        ""
      ],
      "execution_count": null,
      "outputs": []
    }
  ]
}