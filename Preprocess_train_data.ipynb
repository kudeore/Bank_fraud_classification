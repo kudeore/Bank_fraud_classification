{
 "cells": [
  {
   "cell_type": "code",
   "execution_count": 35,
   "metadata": {},
   "outputs": [],
   "source": [
    "import pandas as pd\n",
    "import numpy as np\n",
    "import seaborn as sn\n",
    "import numpy as np\n",
    "import matplotlib.pyplot as plt\n",
    "from sklearn.preprocessing import LabelEncoder"
   ]
  },
  {
   "cell_type": "code",
   "execution_count": 2,
   "metadata": {},
   "outputs": [],
   "source": [
    "#import columns to be dropped from data discovery \n",
    "\n",
    "columns_to_drop =['member_id', 'desc', 'mths_since_last_record', 'mths_since_last_major_derog', 'verification_status_joint', 'mths_since_last_delinq','batch_enrolled' ]"
   ]
  },
  {
   "cell_type": "code",
   "execution_count": 3,
   "metadata": {},
   "outputs": [],
   "source": [
    "data= pd.read_csv('train_indessa.csv')"
   ]
  },
  {
   "cell_type": "code",
   "execution_count": 4,
   "metadata": {},
   "outputs": [],
   "source": [
    "#drop the columns\n",
    "#dropping title as well, because of less time , not running sentiment analysis\n",
    "data.drop(['member_id','desc', 'mths_since_last_record', 'mths_since_last_major_derog', 'verification_status_joint', \n",
    "           'mths_since_last_delinq','batch_enrolled','title' ],inplace=True,axis=1 )"
   ]
  },
  {
   "cell_type": "code",
   "execution_count": 5,
   "metadata": {},
   "outputs": [
    {
     "name": "stdout",
     "output_type": "stream",
     "text": [
      "Index(['loan_amnt', 'funded_amnt', 'funded_amnt_inv', 'term', 'int_rate',\n",
      "       'grade', 'sub_grade', 'emp_title', 'emp_length', 'home_ownership',\n",
      "       'annual_inc', 'verification_status', 'pymnt_plan', 'purpose',\n",
      "       'zip_code', 'addr_state', 'dti', 'delinq_2yrs', 'inq_last_6mths',\n",
      "       'open_acc', 'pub_rec', 'revol_bal', 'revol_util', 'total_acc',\n",
      "       'initial_list_status', 'total_rec_int', 'total_rec_late_fee',\n",
      "       'recoveries', 'collection_recovery_fee', 'collections_12_mths_ex_med',\n",
      "       'application_type', 'last_week_pay', 'acc_now_delinq', 'tot_coll_amt',\n",
      "       'tot_cur_bal', 'total_rev_hi_lim', 'loan_status'],\n",
      "      dtype='object') (37,)\n"
     ]
    }
   ],
   "source": [
    "#define features \n",
    "features = data.columns\n",
    "print(features, features.shape)"
   ]
  },
  {
   "cell_type": "code",
   "execution_count": 6,
   "metadata": {},
   "outputs": [
    {
     "name": "stdout",
     "output_type": "stream",
     "text": [
      "['term', 'grade', 'sub_grade', 'emp_title', 'emp_length', 'home_ownership', 'verification_status', 'pymnt_plan', 'purpose', 'zip_code', 'addr_state', 'initial_list_status', 'application_type', 'last_week_pay']\n"
     ]
    }
   ],
   "source": [
    "#lets preprocess categorical columns first \n",
    "var_cat = []\n",
    "for var in features:\n",
    "    if data[var].dtypes == 'O':\n",
    "        var_cat.append(var)\n",
    "print(var_cat)"
   ]
  },
  {
   "cell_type": "code",
   "execution_count": 7,
   "metadata": {},
   "outputs": [
    {
     "data": {
      "text/plain": [
       "term                   0.000000\n",
       "grade                  0.000000\n",
       "sub_grade              0.000000\n",
       "emp_title              5.791018\n",
       "emp_length             5.050636\n",
       "home_ownership         0.000000\n",
       "verification_status    0.000000\n",
       "pymnt_plan             0.000000\n",
       "purpose                0.000000\n",
       "zip_code               0.000000\n",
       "addr_state             0.000000\n",
       "initial_list_status    0.000000\n",
       "application_type       0.000000\n",
       "last_week_pay          0.000000\n",
       "dtype: float64"
      ]
     },
     "execution_count": 7,
     "metadata": {},
     "output_type": "execute_result"
    }
   ],
   "source": [
    "(data[var_cat].isnull().mean()*100)"
   ]
  },
  {
   "cell_type": "code",
   "execution_count": 11,
   "metadata": {},
   "outputs": [],
   "source": [
    "random_impute= ['emp_length','emp_title']"
   ]
  },
  {
   "cell_type": "code",
   "execution_count": 12,
   "metadata": {},
   "outputs": [],
   "source": [
    "#single go pandas is going heavy on data , so running it in two chunks \n",
    "def random_imputatiochunk1(data, column):\n",
    "    \n",
    "    n=len(data)//2\n",
    "    for x in range(0,n):\n",
    "        if pd.isna(data[column][x]):\n",
    "            #print(data['emp_length'][x])\n",
    "            data[column][x]=np.random.choice(data[column].dropna().values)\n",
    "            \n",
    "def random_imputatiochunk2(data, column):\n",
    "    \n",
    "    n=len(data)//2\n",
    "    for x in range(n,532428):\n",
    "        if pd.isna(data[column][x]):\n",
    "            #print(data['emp_length'][x])\n",
    "            data[column][x]=np.random.choice(data[column].dropna().values)"
   ]
  },
  {
   "cell_type": "code",
   "execution_count": 13,
   "metadata": {},
   "outputs": [
    {
     "name": "stderr",
     "output_type": "stream",
     "text": [
      "<ipython-input-12-28dd46761017>:8: SettingWithCopyWarning: \n",
      "A value is trying to be set on a copy of a slice from a DataFrame\n",
      "\n",
      "See the caveats in the documentation: https://pandas.pydata.org/pandas-docs/stable/user_guide/indexing.html#returning-a-view-versus-a-copy\n",
      "  data[column][x]=np.random.choice(data[column].dropna().values)\n",
      "<ipython-input-12-28dd46761017>:16: SettingWithCopyWarning: \n",
      "A value is trying to be set on a copy of a slice from a DataFrame\n",
      "\n",
      "See the caveats in the documentation: https://pandas.pydata.org/pandas-docs/stable/user_guide/indexing.html#returning-a-view-versus-a-copy\n",
      "  data[column][x]=np.random.choice(data[column].dropna().values)\n"
     ]
    }
   ],
   "source": [
    "for i in random_impute:\n",
    "    random_imputatiochunk1(data,i)\n",
    "    random_imputatiochunk2(data,i)"
   ]
  },
  {
   "cell_type": "code",
   "execution_count": 16,
   "metadata": {},
   "outputs": [],
   "source": [
    "#process Column with str+int\n",
    "def to_int(data,column):\n",
    "    data[column+'_int'] = data[column].str.extract('(\\d+)').astype(int) "
   ]
  },
  {
   "cell_type": "code",
   "execution_count": 25,
   "metadata": {},
   "outputs": [],
   "source": [
    "to_int_columns= ['term','sub_grade','last_week_pay']"
   ]
  },
  {
   "cell_type": "code",
   "execution_count": 29,
   "metadata": {},
   "outputs": [],
   "source": [
    "# last_week_pay has value NAth week , which needs to be converted into int+str\n",
    "#this values can be handled by random imputation , for now replaced by 0\n",
    "data['last_week_pay'].replace({'NAth week':'0th week'}, inplace=True)"
   ]
  },
  {
   "cell_type": "code",
   "execution_count": 31,
   "metadata": {},
   "outputs": [
    {
     "name": "stdout",
     "output_type": "stream",
     "text": [
      "term\n",
      "sub_grade\n",
      "last_week_pay\n"
     ]
    }
   ],
   "source": [
    "for i in to_int_columns:\n",
    "    print(i)\n",
    "    to_int(data,i)"
   ]
  },
  {
   "cell_type": "code",
   "execution_count": 33,
   "metadata": {},
   "outputs": [],
   "source": [
    "#lable encode emp length \n",
    "coding_dict= {'< 1 year':0, '1 year':1, '2 years':2, '9 years':9, '10+ years':10, '5 years':5,\n",
    "       '8 years':8, '7 years':7, '4 years':4, '3 years':3, '6 years':6  }\n",
    "data['emp_length']= data['emp_length'].map(coding_dict)"
   ]
  },
  {
   "cell_type": "code",
   "execution_count": 84,
   "metadata": {},
   "outputs": [],
   "source": [
    "#columns to be lable encoded \n",
    "tobe_lable_encode= ['grade ', 'home_ownership ', 'verification_status ', 'pymnt_plan ', \n",
    "                    'purpose ',  'addr_state ', 'initial_list_status',  'application_type ' ]"
   ]
  },
  {
   "cell_type": "code",
   "execution_count": 115,
   "metadata": {},
   "outputs": [],
   "source": [
    "#use sklearn lable encoder \n",
    "grade= LabelEncoder()\n",
    "data['grade']= grade.fit_transform(data['grade'])\n",
    "\n",
    "home_ownership= LabelEncoder()\n",
    "data['home_ownership']= home_ownership.fit_transform(data['home_ownership'])\n",
    "    \n",
    "verification_status= LabelEncoder()\n",
    "data['verification_status']= verification_status.fit_transform(data['verification_status'])\n",
    "\n",
    "pymnt_plan= LabelEncoder()\n",
    "data['pymnt_plan']= pymnt_plan.fit_transform(data['pymnt_plan'])\n",
    "\n",
    "purpose= LabelEncoder()\n",
    "data['purpose']= purpose.fit_transform(data['purpose'])\n",
    "\n",
    "addr_state= LabelEncoder()\n",
    "data['addr_state']= addr_state.fit_transform(data['addr_state'])\n",
    "\n",
    "initial_list_status= LabelEncoder()\n",
    "data['initial_list_status']= initial_list_status.fit_transform(data['initial_list_status'])\n",
    "\n",
    "application_type= LabelEncoder()\n",
    "data['application_type']= application_type.fit_transform(data['application_type'])"
   ]
  },
  {
   "cell_type": "code",
   "execution_count": 89,
   "metadata": {},
   "outputs": [],
   "source": [
    "#mean target encoding \n",
    "\n",
    "pur= data.groupby('purpose')['loan_status'].mean()\n",
    "data['purpose']= data['purpose'].map(pur)"
   ]
  },
  {
   "cell_type": "code",
   "execution_count": 85,
   "metadata": {},
   "outputs": [],
   "source": [
    "data.drop(['sub_grade','term','last_week_pay'], axis=1, inplace=True)"
   ]
  },
  {
   "cell_type": "code",
   "execution_count": 91,
   "metadata": {},
   "outputs": [],
   "source": [
    "#coun frequency encoding for emp_title\n",
    "\n",
    "emp_ttl= data.groupby('emp_title')['loan_status'].count()"
   ]
  },
  {
   "cell_type": "code",
   "execution_count": 95,
   "metadata": {},
   "outputs": [],
   "source": [
    "data['emp_title']= data['emp_title'].map(emp_ttl)"
   ]
  },
  {
   "cell_type": "code",
   "execution_count": 105,
   "metadata": {},
   "outputs": [],
   "source": [
    "##preprocessign Numerical data \n"
   ]
  },
  {
   "cell_type": "code",
   "execution_count": 100,
   "metadata": {},
   "outputs": [],
   "source": [
    "## as per correlation matrix , we can delete some columns\n",
    "columns_to_drop = ['loan_amnt', 'funded_amnt','total_rev_hi_lim','open_acc','collection_recovery_fee']"
   ]
  },
  {
   "cell_type": "code",
   "execution_count": 101,
   "metadata": {},
   "outputs": [],
   "source": [
    "data.drop(['loan_amnt', 'funded_amnt','total_rev_hi_lim','open_acc','collection_recovery_fee' ],inplace=True,axis=1 )"
   ]
  },
  {
   "cell_type": "code",
   "execution_count": 106,
   "metadata": {},
   "outputs": [
    {
     "name": "stdout",
     "output_type": "stream",
     "text": [
      "['funded_amnt_inv', 'int_rate', 'grade', 'emp_title', 'emp_length', 'home_ownership', 'annual_inc', 'verification_status', 'purpose', 'addr_state', 'dti', 'delinq_2yrs', 'inq_last_6mths', 'pub_rec', 'revol_bal', 'revol_util', 'total_acc', 'initial_list_status', 'total_rec_int', 'total_rec_late_fee', 'recoveries', 'collections_12_mths_ex_med', 'application_type', 'acc_now_delinq', 'tot_coll_amt', 'tot_cur_bal', 'loan_status', 'term_int', 'sub_grade_int', 'last_week_pay_int']\n"
     ]
    }
   ],
   "source": [
    "features_n= data.columns\n",
    "var_num = [] \n",
    "for var in features_n: \n",
    "    if data[var].dtypes != 'O': \n",
    "        var_num.append(var) \n",
    "print(var_num)"
   ]
  },
  {
   "cell_type": "code",
   "execution_count": 103,
   "metadata": {},
   "outputs": [],
   "source": [
    "from sklearn.impute import SimpleImputer"
   ]
  },
  {
   "cell_type": "code",
   "execution_count": 107,
   "metadata": {},
   "outputs": [],
   "source": [
    "imp = SimpleImputer(missing_values=np.nan, strategy='mean')\n",
    "imp.fit(data[var_num])\n",
    "x=imp.transform(data[var_num])\n",
    "data[var_num]= pd.DataFrame(x)"
   ]
  },
  {
   "cell_type": "code",
   "execution_count": 109,
   "metadata": {},
   "outputs": [
    {
     "data": {
      "text/plain": [
       "funded_amnt_inv               0\n",
       "int_rate                      0\n",
       "grade                         0\n",
       "emp_title                     0\n",
       "emp_length                    0\n",
       "home_ownership                0\n",
       "annual_inc                    0\n",
       "verification_status           0\n",
       "pymnt_plan                    0\n",
       "purpose                       0\n",
       "zip_code                      0\n",
       "addr_state                    0\n",
       "dti                           0\n",
       "delinq_2yrs                   0\n",
       "inq_last_6mths                0\n",
       "pub_rec                       0\n",
       "revol_bal                     0\n",
       "revol_util                    0\n",
       "total_acc                     0\n",
       "initial_list_status           0\n",
       "total_rec_int                 0\n",
       "total_rec_late_fee            0\n",
       "recoveries                    0\n",
       "collections_12_mths_ex_med    0\n",
       "application_type              0\n",
       "acc_now_delinq                0\n",
       "tot_coll_amt                  0\n",
       "tot_cur_bal                   0\n",
       "loan_status                   0\n",
       "term_int                      0\n",
       "sub_grade_int                 0\n",
       "last_week_pay_int             0\n",
       "dtype: int64"
      ]
     },
     "execution_count": 109,
     "metadata": {},
     "output_type": "execute_result"
    }
   ],
   "source": [
    "data.isna().sum()"
   ]
  },
  {
   "cell_type": "code",
   "execution_count": 116,
   "metadata": {},
   "outputs": [
    {
     "data": {
      "text/html": [
       "<div>\n",
       "<style scoped>\n",
       "    .dataframe tbody tr th:only-of-type {\n",
       "        vertical-align: middle;\n",
       "    }\n",
       "\n",
       "    .dataframe tbody tr th {\n",
       "        vertical-align: top;\n",
       "    }\n",
       "\n",
       "    .dataframe thead th {\n",
       "        text-align: right;\n",
       "    }\n",
       "</style>\n",
       "<table border=\"1\" class=\"dataframe\">\n",
       "  <thead>\n",
       "    <tr style=\"text-align: right;\">\n",
       "      <th></th>\n",
       "      <th>funded_amnt_inv</th>\n",
       "      <th>int_rate</th>\n",
       "      <th>grade</th>\n",
       "      <th>emp_title</th>\n",
       "      <th>emp_length</th>\n",
       "      <th>home_ownership</th>\n",
       "      <th>annual_inc</th>\n",
       "      <th>verification_status</th>\n",
       "      <th>pymnt_plan</th>\n",
       "      <th>purpose</th>\n",
       "      <th>...</th>\n",
       "      <th>recoveries</th>\n",
       "      <th>collections_12_mths_ex_med</th>\n",
       "      <th>application_type</th>\n",
       "      <th>acc_now_delinq</th>\n",
       "      <th>tot_coll_amt</th>\n",
       "      <th>tot_cur_bal</th>\n",
       "      <th>loan_status</th>\n",
       "      <th>term_int</th>\n",
       "      <th>sub_grade_int</th>\n",
       "      <th>last_week_pay_int</th>\n",
       "    </tr>\n",
       "  </thead>\n",
       "  <tbody>\n",
       "    <tr>\n",
       "      <th>0</th>\n",
       "      <td>14350.0</td>\n",
       "      <td>19.19</td>\n",
       "      <td>4</td>\n",
       "      <td>319.0</td>\n",
       "      <td>9.0</td>\n",
       "      <td>4</td>\n",
       "      <td>28700.0</td>\n",
       "      <td>1</td>\n",
       "      <td>0</td>\n",
       "      <td>1</td>\n",
       "      <td>...</td>\n",
       "      <td>0.0</td>\n",
       "      <td>0.0</td>\n",
       "      <td>0</td>\n",
       "      <td>0.0</td>\n",
       "      <td>0.0</td>\n",
       "      <td>28699.0</td>\n",
       "      <td>0.0</td>\n",
       "      <td>36.0</td>\n",
       "      <td>3.0</td>\n",
       "      <td>26.0</td>\n",
       "    </tr>\n",
       "    <tr>\n",
       "      <th>1</th>\n",
       "      <td>4800.0</td>\n",
       "      <td>10.99</td>\n",
       "      <td>1</td>\n",
       "      <td>76.0</td>\n",
       "      <td>0.0</td>\n",
       "      <td>1</td>\n",
       "      <td>65000.0</td>\n",
       "      <td>1</td>\n",
       "      <td>0</td>\n",
       "      <td>2</td>\n",
       "      <td>...</td>\n",
       "      <td>0.0</td>\n",
       "      <td>0.0</td>\n",
       "      <td>0</td>\n",
       "      <td>0.0</td>\n",
       "      <td>0.0</td>\n",
       "      <td>9974.0</td>\n",
       "      <td>0.0</td>\n",
       "      <td>36.0</td>\n",
       "      <td>4.0</td>\n",
       "      <td>9.0</td>\n",
       "    </tr>\n",
       "    <tr>\n",
       "      <th>2</th>\n",
       "      <td>10000.0</td>\n",
       "      <td>7.26</td>\n",
       "      <td>0</td>\n",
       "      <td>2309.0</td>\n",
       "      <td>2.0</td>\n",
       "      <td>4</td>\n",
       "      <td>45000.0</td>\n",
       "      <td>0</td>\n",
       "      <td>0</td>\n",
       "      <td>1</td>\n",
       "      <td>...</td>\n",
       "      <td>0.0</td>\n",
       "      <td>0.0</td>\n",
       "      <td>0</td>\n",
       "      <td>0.0</td>\n",
       "      <td>65.0</td>\n",
       "      <td>38295.0</td>\n",
       "      <td>0.0</td>\n",
       "      <td>36.0</td>\n",
       "      <td>4.0</td>\n",
       "      <td>9.0</td>\n",
       "    </tr>\n",
       "    <tr>\n",
       "      <th>3</th>\n",
       "      <td>15000.0</td>\n",
       "      <td>19.72</td>\n",
       "      <td>3</td>\n",
       "      <td>1.0</td>\n",
       "      <td>10.0</td>\n",
       "      <td>5</td>\n",
       "      <td>105000.0</td>\n",
       "      <td>0</td>\n",
       "      <td>0</td>\n",
       "      <td>1</td>\n",
       "      <td>...</td>\n",
       "      <td>0.0</td>\n",
       "      <td>0.0</td>\n",
       "      <td>0</td>\n",
       "      <td>0.0</td>\n",
       "      <td>0.0</td>\n",
       "      <td>55564.0</td>\n",
       "      <td>0.0</td>\n",
       "      <td>36.0</td>\n",
       "      <td>5.0</td>\n",
       "      <td>135.0</td>\n",
       "    </tr>\n",
       "    <tr>\n",
       "      <th>4</th>\n",
       "      <td>16000.0</td>\n",
       "      <td>10.64</td>\n",
       "      <td>1</td>\n",
       "      <td>1.0</td>\n",
       "      <td>10.0</td>\n",
       "      <td>5</td>\n",
       "      <td>52000.0</td>\n",
       "      <td>2</td>\n",
       "      <td>0</td>\n",
       "      <td>0</td>\n",
       "      <td>...</td>\n",
       "      <td>0.0</td>\n",
       "      <td>0.0</td>\n",
       "      <td>0</td>\n",
       "      <td>0.0</td>\n",
       "      <td>0.0</td>\n",
       "      <td>47159.0</td>\n",
       "      <td>0.0</td>\n",
       "      <td>36.0</td>\n",
       "      <td>2.0</td>\n",
       "      <td>96.0</td>\n",
       "    </tr>\n",
       "  </tbody>\n",
       "</table>\n",
       "<p>5 rows × 32 columns</p>\n",
       "</div>"
      ],
      "text/plain": [
       "   funded_amnt_inv  int_rate  grade  emp_title  emp_length  home_ownership  \\\n",
       "0          14350.0     19.19      4      319.0         9.0               4   \n",
       "1           4800.0     10.99      1       76.0         0.0               1   \n",
       "2          10000.0      7.26      0     2309.0         2.0               4   \n",
       "3          15000.0     19.72      3        1.0        10.0               5   \n",
       "4          16000.0     10.64      1        1.0        10.0               5   \n",
       "\n",
       "   annual_inc  verification_status  pymnt_plan  purpose  ... recoveries  \\\n",
       "0     28700.0                    1           0        1  ...        0.0   \n",
       "1     65000.0                    1           0        2  ...        0.0   \n",
       "2     45000.0                    0           0        1  ...        0.0   \n",
       "3    105000.0                    0           0        1  ...        0.0   \n",
       "4     52000.0                    2           0        0  ...        0.0   \n",
       "\n",
       "   collections_12_mths_ex_med  application_type  acc_now_delinq  tot_coll_amt  \\\n",
       "0                         0.0                 0             0.0           0.0   \n",
       "1                         0.0                 0             0.0           0.0   \n",
       "2                         0.0                 0             0.0          65.0   \n",
       "3                         0.0                 0             0.0           0.0   \n",
       "4                         0.0                 0             0.0           0.0   \n",
       "\n",
       "   tot_cur_bal  loan_status  term_int  sub_grade_int  last_week_pay_int  \n",
       "0      28699.0          0.0      36.0            3.0               26.0  \n",
       "1       9974.0          0.0      36.0            4.0                9.0  \n",
       "2      38295.0          0.0      36.0            4.0                9.0  \n",
       "3      55564.0          0.0      36.0            5.0              135.0  \n",
       "4      47159.0          0.0      36.0            2.0               96.0  \n",
       "\n",
       "[5 rows x 32 columns]"
      ]
     },
     "execution_count": 116,
     "metadata": {},
     "output_type": "execute_result"
    }
   ],
   "source": [
    "data.head()\n",
    "#data['term_int'] = data['term'].str.extract('(\\d+)').astype(int)"
   ]
  },
  {
   "cell_type": "code",
   "execution_count": 117,
   "metadata": {},
   "outputs": [],
   "source": [
    "data.to_csv('processed_train.csv', encoding='utf-8',index=False)"
   ]
  },
  {
   "cell_type": "code",
   "execution_count": null,
   "metadata": {},
   "outputs": [],
   "source": []
  }
 ],
 "metadata": {
  "kernelspec": {
   "display_name": "Python 3",
   "language": "python",
   "name": "python3"
  },
  "language_info": {
   "codemirror_mode": {
    "name": "ipython",
    "version": 3
   },
   "file_extension": ".py",
   "mimetype": "text/x-python",
   "name": "python",
   "nbconvert_exporter": "python",
   "pygments_lexer": "ipython3",
   "version": "3.8.5"
  }
 },
 "nbformat": 4,
 "nbformat_minor": 4
}
